{
  "nbformat": 4,
  "nbformat_minor": 0,
  "metadata": {
    "colab": {
      "provenance": [],
      "authorship_tag": "ABX9TyNv9/McoYbHBULADabsYYEW",
      "include_colab_link": true
    },
    "kernelspec": {
      "name": "python3",
      "display_name": "Python 3"
    },
    "language_info": {
      "name": "python"
    }
  },
  "cells": [
    {
      "cell_type": "markdown",
      "metadata": {
        "id": "view-in-github",
        "colab_type": "text"
      },
      "source": [
        "<a href=\"https://colab.research.google.com/github/gokul-ml2ds/ML-Practice/blob/main/KNN_SCRATCH.ipynb\" target=\"_parent\"><img src=\"https://colab.research.google.com/assets/colab-badge.svg\" alt=\"Open In Colab\"/></a>"
      ]
    },
    {
      "cell_type": "code",
      "source": [
        "import numpy as np\n",
        "import pandas as pd\n",
        "import random\n",
        "from sklearn.preprocessing import MinMaxScaler\n",
        "from collections import Counter"
      ],
      "metadata": {
        "id": "Bcpw77rCh-9Z"
      },
      "execution_count": null,
      "outputs": []
    },
    {
      "cell_type": "code",
      "source": [
        "f1 = random.sample(range(0,25),20)\n",
        "f2 = random.sample(range(5,30),20)\n",
        "l = [1,0]\n",
        "res = random.choices(l,k =20)\n"
      ],
      "metadata": {
        "id": "0iIspDJsiFfD"
      },
      "execution_count": null,
      "outputs": []
    },
    {
      "cell_type": "code",
      "source": [
        "df = pd.DataFrame({\"f1\":f1,\"f2\":f2,\"res\":res})\n",
        "df.iloc[:,:-1] = MinMaxScaler().fit_transform(df.iloc[:,:-1])"
      ],
      "metadata": {
        "id": "2aZ0IW7_jQml"
      },
      "execution_count": null,
      "outputs": []
    },
    {
      "cell_type": "code",
      "source": [
        "# df = [[2.7810836,2.550537003,0],\n",
        "# \t[1.465489372,2.362125076,0],\n",
        "# \t[3.396561688,4.400293529,0],\n",
        "# \t[1.38807019,1.850220317,0],\n",
        "# \t[3.06407232,3.005305973,0],\n",
        "# \t[7.627531214,2.759262235,1],\n",
        "# \t[5.332441248,2.088626775,1],\n",
        "# \t[6.922596716,1.77106367,1],\n",
        "# \t[8.675418651,-0.242068655,1],\n",
        "# \t[7.673756466,3.508563011,1]]\n",
        "df = np.array(df)\n",
        "df"
      ],
      "metadata": {
        "colab": {
          "base_uri": "https://localhost:8080/"
        },
        "id": "2r1bfjaDmUXf",
        "outputId": "5d3e8eaa-6e72-46e3-ae02-348a3eebc2c8"
      },
      "execution_count": null,
      "outputs": [
        {
          "output_type": "execute_result",
          "data": {
            "text/plain": [
              "array([[0.83333333, 0.20833333, 0.        ],\n",
              "       [0.79166667, 0.125     , 0.        ],\n",
              "       [0.625     , 0.33333333, 1.        ],\n",
              "       [0.875     , 0.5       , 1.        ],\n",
              "       [1.        , 0.75      , 1.        ],\n",
              "       [0.5       , 0.95833333, 0.        ],\n",
              "       [0.54166667, 0.08333333, 1.        ],\n",
              "       [0.29166667, 0.45833333, 1.        ],\n",
              "       [0.08333333, 0.66666667, 0.        ],\n",
              "       [0.33333333, 0.91666667, 0.        ],\n",
              "       [0.        , 0.375     , 1.        ],\n",
              "       [0.04166667, 0.875     , 0.        ],\n",
              "       [0.375     , 0.        , 0.        ],\n",
              "       [0.125     , 0.54166667, 1.        ],\n",
              "       [0.16666667, 0.25      , 1.        ],\n",
              "       [0.58333333, 0.70833333, 0.        ],\n",
              "       [0.45833333, 0.16666667, 0.        ],\n",
              "       [0.91666667, 0.58333333, 1.        ],\n",
              "       [0.20833333, 1.        , 1.        ],\n",
              "       [0.25      , 0.04166667, 0.        ]])"
            ]
          },
          "metadata": {},
          "execution_count": 317
        }
      ]
    },
    {
      "cell_type": "code",
      "source": [
        "train = df[:6,:]\n",
        "test = df[6:,:]"
      ],
      "metadata": {
        "id": "CSSXkvF8u39n"
      },
      "execution_count": null,
      "outputs": []
    },
    {
      "cell_type": "code",
      "execution_count": null,
      "metadata": {
        "id": "P3r68JY7h0hv"
      },
      "outputs": [],
      "source": [
        "class KNN:\n",
        "  def __init__(self, train,test,k):\n",
        "    self.train = train\n",
        "    self.test = test\n",
        "    self.k = k\n",
        "\n",
        "  def distance(self,row1, row2):\n",
        "    row1 = row1[:-1]\n",
        "    row2 = row2[:-1]\n",
        "    dist = 0\n",
        "    for i,r in enumerate(row1):\n",
        "      dist += ((row2)[i]- r)**2\n",
        "\n",
        "    return np.sqrt(dist)\n",
        "\n",
        "  def select_kn(self,train, test_row,k):\n",
        "    dist_lst = []\n",
        "    top_k = []\n",
        "    for train_row in train:\n",
        "      dist_lst.append((train_row,self.distance(train_row,test_row)))\n",
        "    \n",
        "    dist_lst.sort(key =lambda tup: tup[1])  \n",
        "    for i in range(k):\n",
        "      top_k.append(dist_lst[i][0])\n",
        "    return top_k\n",
        "\n",
        "  def pred_knn(self,train, test_row,k):\n",
        "    neighbours = self.select_kn(train, test_row,k)\n",
        "    outputs = [x[2] for x in neighbours]\n",
        "\n",
        "    pred = max(set(outputs), key =outputs.count )\n",
        "    return pred\n",
        "\n",
        "  def tests(self,train, test,k):\n",
        "    result = []\n",
        "    for test_row in test:\n",
        "      res = self.pred_knn(train, test_row,k)\n",
        "      result.append([test_row[:-1],res])\n",
        "    return pd.DataFrame(result)\n"
      ]
    },
    {
      "cell_type": "code",
      "source": [
        "k = KNN(train,test,4)\n",
        "k.tests(train, test,5)"
      ],
      "metadata": {
        "colab": {
          "base_uri": "https://localhost:8080/",
          "height": 483
        },
        "id": "6lHs0lkp-FL_",
        "outputId": "9bfe0dec-69de-495f-e4ec-3e39f2f1b14c"
      },
      "execution_count": null,
      "outputs": [
        {
          "output_type": "execute_result",
          "data": {
            "text/plain": [
              "                                            0    1\n",
              "0   [0.5416666666666666, 0.08333333333333331]  1.0\n",
              "1   [0.29166666666666663, 0.4583333333333333]  0.0\n",
              "2   [0.08333333333333333, 0.6666666666666667]  0.0\n",
              "3    [0.3333333333333333, 0.9166666666666667]  1.0\n",
              "4                  [0.0, 0.37499999999999994]  0.0\n",
              "5               [0.041666666666666664, 0.875]  1.0\n",
              "6                                [0.375, 0.0]  0.0\n",
              "7                 [0.125, 0.5416666666666667]  0.0\n",
              "8                 [0.16666666666666666, 0.25]  0.0\n",
              "9    [0.5833333333333333, 0.7083333333333333]  1.0\n",
              "10  [0.4583333333333333, 0.16666666666666669]  0.0\n",
              "11   [0.9166666666666666, 0.5833333333333333]  1.0\n",
              "12                 [0.20833333333333331, 1.0]  1.0\n",
              "13               [0.25, 0.041666666666666685]  0.0"
            ],
            "text/html": [
              "\n",
              "  <div id=\"df-1f2c3ae6-4799-4866-b2f7-2da03536a5eb\">\n",
              "    <div class=\"colab-df-container\">\n",
              "      <div>\n",
              "<style scoped>\n",
              "    .dataframe tbody tr th:only-of-type {\n",
              "        vertical-align: middle;\n",
              "    }\n",
              "\n",
              "    .dataframe tbody tr th {\n",
              "        vertical-align: top;\n",
              "    }\n",
              "\n",
              "    .dataframe thead th {\n",
              "        text-align: right;\n",
              "    }\n",
              "</style>\n",
              "<table border=\"1\" class=\"dataframe\">\n",
              "  <thead>\n",
              "    <tr style=\"text-align: right;\">\n",
              "      <th></th>\n",
              "      <th>0</th>\n",
              "      <th>1</th>\n",
              "    </tr>\n",
              "  </thead>\n",
              "  <tbody>\n",
              "    <tr>\n",
              "      <th>0</th>\n",
              "      <td>[0.5416666666666666, 0.08333333333333331]</td>\n",
              "      <td>1.0</td>\n",
              "    </tr>\n",
              "    <tr>\n",
              "      <th>1</th>\n",
              "      <td>[0.29166666666666663, 0.4583333333333333]</td>\n",
              "      <td>0.0</td>\n",
              "    </tr>\n",
              "    <tr>\n",
              "      <th>2</th>\n",
              "      <td>[0.08333333333333333, 0.6666666666666667]</td>\n",
              "      <td>0.0</td>\n",
              "    </tr>\n",
              "    <tr>\n",
              "      <th>3</th>\n",
              "      <td>[0.3333333333333333, 0.9166666666666667]</td>\n",
              "      <td>1.0</td>\n",
              "    </tr>\n",
              "    <tr>\n",
              "      <th>4</th>\n",
              "      <td>[0.0, 0.37499999999999994]</td>\n",
              "      <td>0.0</td>\n",
              "    </tr>\n",
              "    <tr>\n",
              "      <th>5</th>\n",
              "      <td>[0.041666666666666664, 0.875]</td>\n",
              "      <td>1.0</td>\n",
              "    </tr>\n",
              "    <tr>\n",
              "      <th>6</th>\n",
              "      <td>[0.375, 0.0]</td>\n",
              "      <td>0.0</td>\n",
              "    </tr>\n",
              "    <tr>\n",
              "      <th>7</th>\n",
              "      <td>[0.125, 0.5416666666666667]</td>\n",
              "      <td>0.0</td>\n",
              "    </tr>\n",
              "    <tr>\n",
              "      <th>8</th>\n",
              "      <td>[0.16666666666666666, 0.25]</td>\n",
              "      <td>0.0</td>\n",
              "    </tr>\n",
              "    <tr>\n",
              "      <th>9</th>\n",
              "      <td>[0.5833333333333333, 0.7083333333333333]</td>\n",
              "      <td>1.0</td>\n",
              "    </tr>\n",
              "    <tr>\n",
              "      <th>10</th>\n",
              "      <td>[0.4583333333333333, 0.16666666666666669]</td>\n",
              "      <td>0.0</td>\n",
              "    </tr>\n",
              "    <tr>\n",
              "      <th>11</th>\n",
              "      <td>[0.9166666666666666, 0.5833333333333333]</td>\n",
              "      <td>1.0</td>\n",
              "    </tr>\n",
              "    <tr>\n",
              "      <th>12</th>\n",
              "      <td>[0.20833333333333331, 1.0]</td>\n",
              "      <td>1.0</td>\n",
              "    </tr>\n",
              "    <tr>\n",
              "      <th>13</th>\n",
              "      <td>[0.25, 0.041666666666666685]</td>\n",
              "      <td>0.0</td>\n",
              "    </tr>\n",
              "  </tbody>\n",
              "</table>\n",
              "</div>\n",
              "      <button class=\"colab-df-convert\" onclick=\"convertToInteractive('df-1f2c3ae6-4799-4866-b2f7-2da03536a5eb')\"\n",
              "              title=\"Convert this dataframe to an interactive table.\"\n",
              "              style=\"display:none;\">\n",
              "        \n",
              "  <svg xmlns=\"http://www.w3.org/2000/svg\" height=\"24px\"viewBox=\"0 0 24 24\"\n",
              "       width=\"24px\">\n",
              "    <path d=\"M0 0h24v24H0V0z\" fill=\"none\"/>\n",
              "    <path d=\"M18.56 5.44l.94 2.06.94-2.06 2.06-.94-2.06-.94-.94-2.06-.94 2.06-2.06.94zm-11 1L8.5 8.5l.94-2.06 2.06-.94-2.06-.94L8.5 2.5l-.94 2.06-2.06.94zm10 10l.94 2.06.94-2.06 2.06-.94-2.06-.94-.94-2.06-.94 2.06-2.06.94z\"/><path d=\"M17.41 7.96l-1.37-1.37c-.4-.4-.92-.59-1.43-.59-.52 0-1.04.2-1.43.59L10.3 9.45l-7.72 7.72c-.78.78-.78 2.05 0 2.83L4 21.41c.39.39.9.59 1.41.59.51 0 1.02-.2 1.41-.59l7.78-7.78 2.81-2.81c.8-.78.8-2.07 0-2.86zM5.41 20L4 18.59l7.72-7.72 1.47 1.35L5.41 20z\"/>\n",
              "  </svg>\n",
              "      </button>\n",
              "      \n",
              "  <style>\n",
              "    .colab-df-container {\n",
              "      display:flex;\n",
              "      flex-wrap:wrap;\n",
              "      gap: 12px;\n",
              "    }\n",
              "\n",
              "    .colab-df-convert {\n",
              "      background-color: #E8F0FE;\n",
              "      border: none;\n",
              "      border-radius: 50%;\n",
              "      cursor: pointer;\n",
              "      display: none;\n",
              "      fill: #1967D2;\n",
              "      height: 32px;\n",
              "      padding: 0 0 0 0;\n",
              "      width: 32px;\n",
              "    }\n",
              "\n",
              "    .colab-df-convert:hover {\n",
              "      background-color: #E2EBFA;\n",
              "      box-shadow: 0px 1px 2px rgba(60, 64, 67, 0.3), 0px 1px 3px 1px rgba(60, 64, 67, 0.15);\n",
              "      fill: #174EA6;\n",
              "    }\n",
              "\n",
              "    [theme=dark] .colab-df-convert {\n",
              "      background-color: #3B4455;\n",
              "      fill: #D2E3FC;\n",
              "    }\n",
              "\n",
              "    [theme=dark] .colab-df-convert:hover {\n",
              "      background-color: #434B5C;\n",
              "      box-shadow: 0px 1px 3px 1px rgba(0, 0, 0, 0.15);\n",
              "      filter: drop-shadow(0px 1px 2px rgba(0, 0, 0, 0.3));\n",
              "      fill: #FFFFFF;\n",
              "    }\n",
              "  </style>\n",
              "\n",
              "      <script>\n",
              "        const buttonEl =\n",
              "          document.querySelector('#df-1f2c3ae6-4799-4866-b2f7-2da03536a5eb button.colab-df-convert');\n",
              "        buttonEl.style.display =\n",
              "          google.colab.kernel.accessAllowed ? 'block' : 'none';\n",
              "\n",
              "        async function convertToInteractive(key) {\n",
              "          const element = document.querySelector('#df-1f2c3ae6-4799-4866-b2f7-2da03536a5eb');\n",
              "          const dataTable =\n",
              "            await google.colab.kernel.invokeFunction('convertToInteractive',\n",
              "                                                     [key], {});\n",
              "          if (!dataTable) return;\n",
              "\n",
              "          const docLinkHtml = 'Like what you see? Visit the ' +\n",
              "            '<a target=\"_blank\" href=https://colab.research.google.com/notebooks/data_table.ipynb>data table notebook</a>'\n",
              "            + ' to learn more about interactive tables.';\n",
              "          element.innerHTML = '';\n",
              "          dataTable['output_type'] = 'display_data';\n",
              "          await google.colab.output.renderOutput(dataTable, element);\n",
              "          const docLink = document.createElement('div');\n",
              "          docLink.innerHTML = docLinkHtml;\n",
              "          element.appendChild(docLink);\n",
              "        }\n",
              "      </script>\n",
              "    </div>\n",
              "  </div>\n",
              "  "
            ]
          },
          "metadata": {},
          "execution_count": 350
        }
      ]
    },
    {
      "cell_type": "code",
      "source": [],
      "metadata": {
        "id": "0WDh_oLf_d7l"
      },
      "execution_count": null,
      "outputs": []
    }
  ]
}